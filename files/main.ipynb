{
 "cells": [
  {
   "cell_type": "code",
   "execution_count": 2,
   "metadata": {},
   "outputs": [
    {
     "name": "stdout",
     "output_type": "stream",
     "text": [
      "Test Accuracy: 0.7625\n"
     ]
    }
   ],
   "source": [
    "from sklearn.metrics import accuracy_score\n",
    "from neural import NeuralNetwork\n",
    "from data import BuildDataset\n",
    "\n",
    "X_train, X_test, y_train, y_test= BuildDataset()\n",
    "\n",
    "# Initialize and train the model\n",
    "nn = NeuralNetwork(input_size=11, hidden_size=5, output_size=1, lr=0.01)\n",
    "nn.train(X_train, y_train.reshape(-1, 1), epochs=1000)\n",
    "\n",
    "# Make predictions and calculate accuracy\n",
    "y_pred = nn.predict(X_test)\n",
    "accuracy = accuracy_score(y_test, y_pred)\n",
    "print(\"Test Accuracy:\", accuracy)"
   ]
  }
 ],
 "metadata": {
  "kernelspec": {
   "display_name": "Python 3",
   "language": "python",
   "name": "python3"
  },
  "language_info": {
   "codemirror_mode": {
    "name": "ipython",
    "version": 3
   },
   "file_extension": ".py",
   "mimetype": "text/x-python",
   "name": "python",
   "nbconvert_exporter": "python",
   "pygments_lexer": "ipython3",
   "version": "3.12.5"
  }
 },
 "nbformat": 4,
 "nbformat_minor": 2
}
